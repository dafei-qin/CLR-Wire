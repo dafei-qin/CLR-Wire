{
 "cells": [
  {
   "cell_type": "code",
   "execution_count": 4,
   "metadata": {},
   "outputs": [],
   "source": [
    "import pathlib\n",
    "\n",
    "from occwl.compound import Compound\n",
    "from occwl.viewer import Viewer\n",
    "from occwl.io import save_step\n",
    "\n",
    "# Returns a list of bodies from the step file, we only need the first one\n",
    "compound = Compound.load_from_step(r'F:\\WORK\\CAD\\data\\examples\\056_002.step')\n",
    "solid = next(compound.solids())\n",
    "solid.convert_geometric_identity_transforms_to_identity()\n",
    "# save_step([solid], r'F:\\WORK\\CAD\\data\\examples\\005_unit.step')\n",
    "# solid = solid.scale_to_unit_box()"
   ]
  },
  {
   "cell_type": "code",
   "execution_count": 5,
   "metadata": {},
   "outputs": [
    {
     "name": "stdout",
     "output_type": "stream",
     "text": [
      "wxPython backend -  4.1.1 msw (phoenix) wxWidgets 3.1.5\n"
     ]
    }
   ],
   "source": [
    "v = Viewer(backend=\"wx\")\n",
    "v.display(solid)\n",
    "v.fit()\n",
    "v.show()"
   ]
  },
  {
   "cell_type": "code",
   "execution_count": 17,
   "metadata": {},
   "outputs": [],
   "source": [
    "from OCC.Core.BRep import BRep_Tool\n",
    "from OCC.Core.BRepTools import breptools_UVBounds, breptools_Update\n",
    "from occwl.graph import face_adjacency"
   ]
  },
  {
   "cell_type": "code",
   "execution_count": 11,
   "metadata": {},
   "outputs": [],
   "source": [
    "graph = face_adjacency(solid)\n"
   ]
  },
  {
   "cell_type": "code",
   "execution_count": 18,
   "metadata": {},
   "outputs": [
    {
     "name": "stdout",
     "output_type": "stream",
     "text": [
      "0 cylinder <class 'occwl.face.Face'> <class 'OCC.Core.gp.gp_Cylinder'>\n",
      "1.570796326793106 7.853981633974483 -32.25195626552865 -29.999828109816765\n",
      "--------------------------------\n",
      "1 cylinder <class 'occwl.face.Face'> <class 'OCC.Core.gp.gp_Cylinder'>\n",
      "1.5707963267948966 7.853981633974483 -537.0 0.0\n",
      "--------------------------------\n",
      "2 torus <class 'occwl.face.Face'> <class 'OCC.Core.gp.gp_Torus'>\n",
      "0.0 1.570796326795 -3.141592653589793 3.141592653589793\n",
      "--------------------------------\n",
      "3 cylinder <class 'occwl.face.Face'> <class 'OCC.Core.gp.gp_Cylinder'>\n",
      "0.0 6.283185307179586 -280.0 0.0\n",
      "--------------------------------\n",
      "4 torus <class 'occwl.face.Face'> <class 'OCC.Core.gp.gp_Torus'>\n",
      "0.0 1.570796326795 0.0 6.283185307179586\n",
      "--------------------------------\n",
      "5 cylinder <class 'occwl.face.Face'> <class 'OCC.Core.gp.gp_Cylinder'>\n",
      "0.0 6.283185307179586 -537.0 0.0\n",
      "--------------------------------\n",
      "6 plane <class 'occwl.face.Face'> <class 'OCC.Core.gp.gp_Pln'>\n",
      "-20.0 20.0 -19.911809548975 20.088190451025\n",
      "--------------------------------\n",
      "7 cylinder <class 'occwl.face.Face'> <class 'OCC.Core.gp.gp_Cylinder'>\n",
      "-1.6967760529951192e-11 6.283185307162846 -70.00017336607112 -67.74804550750403\n",
      "--------------------------------\n",
      "8 cylinder <class 'occwl.face.Face'> <class 'OCC.Core.gp.gp_Cylinder'>\n",
      "-1.5707963267948983 4.7123889803846915 -537.0 0.0\n",
      "--------------------------------\n",
      "9 cylinder <class 'occwl.face.Face'> <class 'OCC.Core.gp.gp_Cylinder'>\n",
      "0.0 6.283185307179586 -537.0 0.0\n",
      "--------------------------------\n",
      "10 plane <class 'occwl.face.Face'> <class 'OCC.Core.gp.gp_Pln'>\n",
      "-20.0 20.0 -20.088190451025 19.911809548975\n",
      "--------------------------------\n",
      "11 torus <class 'occwl.face.Face'> <class 'OCC.Core.gp.gp_Torus'>\n",
      "4.712388980384689 6.283185307179689 -3.141592653589794 3.141592653589796\n",
      "--------------------------------\n",
      "12 torus <class 'occwl.face.Face'> <class 'OCC.Core.gp.gp_Torus'>\n",
      "4.712388980384689 6.28318530717969 -8.881784197001252e-16 6.283185307179586\n",
      "--------------------------------\n",
      "13 cylinder <class 'occwl.face.Face'> <class 'OCC.Core.gp.gp_Cylinder'>\n",
      "1.674038685450796e-11 6.283185307196554 -70.00017336607112 -67.74804550750406\n",
      "--------------------------------\n",
      "14 cylinder <class 'occwl.face.Face'> <class 'OCC.Core.gp.gp_Cylinder'>\n",
      "-1.5707963267948877 4.712388980401487 -32.25195626552867 -29.999828109816782\n",
      "--------------------------------\n",
      "15 cylinder <class 'occwl.face.Face'> <class 'OCC.Core.gp.gp_Cylinder'>\n",
      "0.0 6.283185307179586 -280.0 2.842170943040401e-14\n",
      "--------------------------------\n"
     ]
    }
   ],
   "source": [
    "for face_idx in graph.nodes():\n",
    "            face = graph.nodes[face_idx][\"face\"]\n",
    "            surf_type = face.surface_type()\n",
    "            surface = face.specific_surface()\n",
    "            print(face_idx, surf_type, type(face), type(surface))\n",
    "            topods_face = face.topods_shape()\n",
    "            umin, umax, vmin, vmax = breptools_UVBounds(topods_face)\n",
    "            print(umin, umax, vmin, vmax)\n",
    "            breptools_Update(topods_face)\n",
    "            umin, umax, vmin, vmax = breptools_UVBounds(topods_face)\n",
    "            print(umin, umax, vmin, vmax)\n",
    "            print('--------------------------------')"
   ]
  }
 ],
 "metadata": {
  "kernelspec": {
   "display_name": "Python 3",
   "language": "python",
   "name": "python3"
  },
  "language_info": {
   "codemirror_mode": {
    "name": "ipython",
    "version": 3
   },
   "file_extension": ".py",
   "mimetype": "text/x-python",
   "name": "python",
   "nbconvert_exporter": "python",
   "pygments_lexer": "ipython3",
   "version": "3.7.16"
  }
 },
 "nbformat": 4,
 "nbformat_minor": 2
}
